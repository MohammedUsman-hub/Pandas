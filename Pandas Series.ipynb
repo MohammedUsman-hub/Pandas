{
 "cells": [
  {
   "cell_type": "code",
   "execution_count": 2,
   "id": "6d5c099c",
   "metadata": {},
   "outputs": [],
   "source": [
    "import numpy as np\n",
    "import pandas as pd\n",
    "\n",
    "from pandas import Series, DataFrame"
   ]
  },
  {
   "cell_type": "code",
   "execution_count": 2,
   "id": "f43c0a3a",
   "metadata": {},
   "outputs": [
    {
     "data": {
      "text/plain": [
       "0     3\n",
       "1     6\n",
       "2     9\n",
       "3    12\n",
       "dtype: int64"
      ]
     },
     "execution_count": 2,
     "metadata": {},
     "output_type": "execute_result"
    }
   ],
   "source": [
    "# Series is like an Array except that it contains data labels\n",
    "obj = Series([3, 6, 9, 12])\n",
    "obj"
   ]
  },
  {
   "cell_type": "code",
   "execution_count": 3,
   "id": "6b3d1b14-e0c9-4557-a62f-4a19fdc517f7",
   "metadata": {},
   "outputs": [
    {
     "data": {
      "text/plain": [
       "array([ 3,  6,  9, 12], dtype=int64)"
      ]
     },
     "execution_count": 3,
     "metadata": {},
     "output_type": "execute_result"
    }
   ],
   "source": [
    "obj.values"
   ]
  },
  {
   "cell_type": "code",
   "execution_count": 4,
   "id": "9fd6cf4a-adc6-4db5-95b8-3294cd6c20ce",
   "metadata": {},
   "outputs": [
    {
     "data": {
      "text/plain": [
       "RangeIndex(start=0, stop=4, step=1)"
      ]
     },
     "execution_count": 4,
     "metadata": {},
     "output_type": "execute_result"
    }
   ],
   "source": [
    "obj.index"
   ]
  },
  {
   "cell_type": "code",
   "execution_count": 4,
   "id": "f7a80987-b8ab-4dbb-b72f-838f1657c2b7",
   "metadata": {},
   "outputs": [
    {
     "data": {
      "text/plain": [
       "Messi      50\n",
       "Ronaldo    45\n",
       "Neymar     38\n",
       "Rooney     33\n",
       "Kaka       30\n",
       "dtype: int64"
      ]
     },
     "execution_count": 4,
     "metadata": {},
     "output_type": "execute_result"
    }
   ],
   "source": [
    "goal_stats = Series([50, 45, 38, 33, 30], index=['Messi', 'Ronaldo', 'Neymar', 'Rooney', 'Kaka'])\n",
    "goal_stats"
   ]
  },
  {
   "cell_type": "code",
   "execution_count": 5,
   "id": "a80e8231-7acf-4e55-ac99-82c8c6ff70ab",
   "metadata": {},
   "outputs": [
    {
     "data": {
      "text/plain": [
       "38"
      ]
     },
     "execution_count": 5,
     "metadata": {},
     "output_type": "execute_result"
    }
   ],
   "source": [
    "goal_stats['Neymar']"
   ]
  },
  {
   "cell_type": "code",
   "execution_count": 6,
   "id": "3c324b88-d99d-4b39-aac9-87230d416937",
   "metadata": {},
   "outputs": [
    {
     "data": {
      "text/plain": [
       "Messi      50\n",
       "Ronaldo    45\n",
       "dtype: int64"
      ]
     },
     "execution_count": 6,
     "metadata": {},
     "output_type": "execute_result"
    }
   ],
   "source": [
    "# Check which player scored more than 40 goals\n",
    "goal_stats[goal_stats > 40]"
   ]
  },
  {
   "cell_type": "code",
   "execution_count": 7,
   "id": "2aa4df8e-0973-4abc-920d-f783f18ca932",
   "metadata": {},
   "outputs": [
    {
     "data": {
      "text/plain": [
       "True"
      ]
     },
     "execution_count": 7,
     "metadata": {},
     "output_type": "execute_result"
    }
   ],
   "source": [
    "'Neymar' in goal_stats"
   ]
  },
  {
   "cell_type": "code",
   "execution_count": 8,
   "id": "528534f7-e739-42f2-91ee-be25ffe8ad78",
   "metadata": {},
   "outputs": [
    {
     "data": {
      "text/plain": [
       "{'Messi': 50, 'Ronaldo': 45, 'Neymar': 38, 'Rooney': 33, 'Kaka': 30}"
      ]
     },
     "execution_count": 8,
     "metadata": {},
     "output_type": "execute_result"
    }
   ],
   "source": [
    "goal_dict = goal_stats.to_dict()\n",
    "goal_dict"
   ]
  },
  {
   "cell_type": "code",
   "execution_count": 9,
   "id": "709d9e44-802a-4610-b92a-e65408d4f868",
   "metadata": {},
   "outputs": [],
   "source": [
    "goal_stats = Series(goal_dict)"
   ]
  },
  {
   "cell_type": "code",
   "execution_count": 10,
   "id": "42d04bc4-5699-4587-b383-38c587710174",
   "metadata": {},
   "outputs": [
    {
     "data": {
      "text/plain": [
       "Messi      50\n",
       "Ronaldo    45\n",
       "Neymar     38\n",
       "Rooney     33\n",
       "Kaka       30\n",
       "dtype: int64"
      ]
     },
     "execution_count": 10,
     "metadata": {},
     "output_type": "execute_result"
    }
   ],
   "source": [
    "goal_stats"
   ]
  },
  {
   "cell_type": "code",
   "execution_count": 11,
   "id": "e2a37777-a89e-47a1-8aee-481429888478",
   "metadata": {},
   "outputs": [],
   "source": [
    "player = ['Messi', 'Ronaldo', 'Neymar', 'Rooney', 'Kaka', 'Ozil']"
   ]
  },
  {
   "cell_type": "code",
   "execution_count": 12,
   "id": "c9e469a8-4f31-454a-a045-9192bfc42323",
   "metadata": {},
   "outputs": [
    {
     "data": {
      "text/plain": [
       "Messi      50.0\n",
       "Ronaldo    45.0\n",
       "Neymar     38.0\n",
       "Rooney     33.0\n",
       "Kaka       30.0\n",
       "Ozil        NaN\n",
       "dtype: float64"
      ]
     },
     "execution_count": 12,
     "metadata": {},
     "output_type": "execute_result"
    }
   ],
   "source": [
    "obj2 = Series(goal_dict, index=player)\n",
    "obj2"
   ]
  },
  {
   "cell_type": "code",
   "execution_count": 13,
   "id": "a70e5d2e-bcb1-44dc-b855-b647f839faf7",
   "metadata": {},
   "outputs": [
    {
     "data": {
      "text/plain": [
       "Messi      False\n",
       "Ronaldo    False\n",
       "Neymar     False\n",
       "Rooney     False\n",
       "Kaka       False\n",
       "Ozil        True\n",
       "dtype: bool"
      ]
     },
     "execution_count": 13,
     "metadata": {},
     "output_type": "execute_result"
    }
   ],
   "source": [
    "pd.isnull(obj2)"
   ]
  },
  {
   "cell_type": "code",
   "execution_count": 15,
   "id": "8ea0f989-7499-4cfa-87a3-d77853b96ec3",
   "metadata": {},
   "outputs": [
    {
     "data": {
      "text/plain": [
       "Messi       True\n",
       "Ronaldo     True\n",
       "Neymar      True\n",
       "Rooney      True\n",
       "Kaka        True\n",
       "Ozil       False\n",
       "dtype: bool"
      ]
     },
     "execution_count": 15,
     "metadata": {},
     "output_type": "execute_result"
    }
   ],
   "source": [
    "pd.notnull(obj2)"
   ]
  },
  {
   "cell_type": "code",
   "execution_count": 16,
   "id": "034bd785-0a01-4030-9dd3-83193469104e",
   "metadata": {},
   "outputs": [
    {
     "data": {
      "text/plain": [
       "Messi      50\n",
       "Ronaldo    45\n",
       "Neymar     38\n",
       "Rooney     33\n",
       "Kaka       30\n",
       "dtype: int64"
      ]
     },
     "execution_count": 16,
     "metadata": {},
     "output_type": "execute_result"
    }
   ],
   "source": [
    "goal_stats"
   ]
  },
  {
   "cell_type": "code",
   "execution_count": 18,
   "id": "ed93239d-eff3-4c38-8d83-4ea25c53fe76",
   "metadata": {},
   "outputs": [
    {
     "data": {
      "text/plain": [
       "Messi      50.0\n",
       "Ronaldo    45.0\n",
       "Neymar     38.0\n",
       "Rooney     33.0\n",
       "Kaka       30.0\n",
       "Ozil        NaN\n",
       "dtype: float64"
      ]
     },
     "execution_count": 18,
     "metadata": {},
     "output_type": "execute_result"
    }
   ],
   "source": [
    "obj2"
   ]
  },
  {
   "cell_type": "code",
   "execution_count": 19,
   "id": "fd8207bf-6d9c-4260-9230-e9f320e16eb3",
   "metadata": {},
   "outputs": [
    {
     "data": {
      "text/plain": [
       "Kaka        60.0\n",
       "Messi      100.0\n",
       "Neymar      76.0\n",
       "Ozil         NaN\n",
       "Ronaldo     90.0\n",
       "Rooney      66.0\n",
       "dtype: float64"
      ]
     },
     "execution_count": 19,
     "metadata": {},
     "output_type": "execute_result"
    }
   ],
   "source": [
    "goal_stats + obj2"
   ]
  },
  {
   "cell_type": "code",
   "execution_count": 20,
   "id": "dbd5840f-b7e3-4e1c-986e-21fc1d25c612",
   "metadata": {},
   "outputs": [],
   "source": [
    "obj2.name = \"Player goal Stats\""
   ]
  },
  {
   "cell_type": "code",
   "execution_count": 21,
   "id": "4daf9617-825a-4f32-8f9d-412907d9aa7c",
   "metadata": {},
   "outputs": [
    {
     "data": {
      "text/plain": [
       "Messi      50.0\n",
       "Ronaldo    45.0\n",
       "Neymar     38.0\n",
       "Rooney     33.0\n",
       "Kaka       30.0\n",
       "Ozil        NaN\n",
       "Name: Player goal Stats, dtype: float64"
      ]
     },
     "execution_count": 21,
     "metadata": {},
     "output_type": "execute_result"
    }
   ],
   "source": [
    "obj2"
   ]
  },
  {
   "cell_type": "code",
   "execution_count": 23,
   "id": "03dbf933-52ea-4aae-b9ee-587237080a40",
   "metadata": {},
   "outputs": [],
   "source": [
    "obj2.index.name = \"Players\""
   ]
  },
  {
   "cell_type": "code",
   "execution_count": 24,
   "id": "e56669ec-6d94-4256-834c-6f73ad342112",
   "metadata": {},
   "outputs": [
    {
     "data": {
      "text/plain": [
       "Players\n",
       "Messi      50.0\n",
       "Ronaldo    45.0\n",
       "Neymar     38.0\n",
       "Rooney     33.0\n",
       "Kaka       30.0\n",
       "Ozil        NaN\n",
       "Name: Player goal Stats, dtype: float64"
      ]
     },
     "execution_count": 24,
     "metadata": {},
     "output_type": "execute_result"
    }
   ],
   "source": [
    "obj2"
   ]
  },
  {
   "cell_type": "code",
   "execution_count": null,
   "id": "ff3a476b-5de1-42cd-8800-fe0f8f8c9916",
   "metadata": {},
   "outputs": [],
   "source": []
  }
 ],
 "metadata": {
  "kernelspec": {
   "display_name": "Python 3 (ipykernel)",
   "language": "python",
   "name": "python3"
  },
  "language_info": {
   "codemirror_mode": {
    "name": "ipython",
    "version": 3
   },
   "file_extension": ".py",
   "mimetype": "text/x-python",
   "name": "python",
   "nbconvert_exporter": "python",
   "pygments_lexer": "ipython3",
   "version": "3.9.17"
  }
 },
 "nbformat": 4,
 "nbformat_minor": 5
}
