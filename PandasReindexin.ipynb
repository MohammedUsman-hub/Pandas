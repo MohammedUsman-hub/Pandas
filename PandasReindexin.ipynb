{
 "cells": [
  {
   "cell_type": "code",
   "execution_count": 1,
   "id": "d469850f-c1d2-4eef-8859-d07f453c50c3",
   "metadata": {},
   "outputs": [],
   "source": [
    "import numpy as np\n",
    "import pandas as pd\n",
    "\n",
    "from pandas import DataFrame, Series\n",
    "from numpy.random import randn"
   ]
  },
  {
   "cell_type": "code",
   "execution_count": 3,
   "id": "1904ce40-cbc4-43b3-ba43-5dad08cad53e",
   "metadata": {},
   "outputs": [
    {
     "data": {
      "text/plain": [
       "A    1\n",
       "B    2\n",
       "C    3\n",
       "D    4\n",
       "dtype: int64"
      ]
     },
     "execution_count": 3,
     "metadata": {},
     "output_type": "execute_result"
    }
   ],
   "source": [
    "ser1 = Series([1,2,3,4],index= ['A','B','C','D'])\n",
    "ser1"
   ]
  },
  {
   "cell_type": "code",
   "execution_count": 5,
   "id": "8fe022c5-83f8-44fa-a94f-e5ce3450bc83",
   "metadata": {},
   "outputs": [
    {
     "data": {
      "text/plain": [
       "A    1.0\n",
       "B    2.0\n",
       "C    3.0\n",
       "D    4.0\n",
       "E    NaN\n",
       "F    NaN\n",
       "dtype: float64"
      ]
     },
     "execution_count": 5,
     "metadata": {},
     "output_type": "execute_result"
    }
   ],
   "source": [
    "ser2 = ser1.reindex(['A','B','C','D','E','F'])\n",
    "ser2"
   ]
  },
  {
   "cell_type": "code",
   "execution_count": 6,
   "id": "e4b0141e-1d9c-4615-ab6c-17b76345ffbd",
   "metadata": {},
   "outputs": [
    {
     "data": {
      "text/plain": [
       "A    1.0\n",
       "B    2.0\n",
       "C    3.0\n",
       "D    4.0\n",
       "E    NaN\n",
       "F    NaN\n",
       "G    0.0\n",
       "dtype: float64"
      ]
     },
     "execution_count": 6,
     "metadata": {},
     "output_type": "execute_result"
    }
   ],
   "source": [
    "ser2.reindex(['A','B','C','D','E','F','G'],fill_value=0)"
   ]
  },
  {
   "cell_type": "code",
   "execution_count": 13,
   "id": "a1e0acaa-e66a-4e82-b310-fca65b0295ec",
   "metadata": {},
   "outputs": [
    {
     "data": {
      "text/plain": [
       "9              Japan\n",
       "0     United Kingdom\n",
       "10          Pakistan\n",
       "dtype: object"
      ]
     },
     "execution_count": 13,
     "metadata": {},
     "output_type": "execute_result"
    }
   ],
   "source": [
    "ser3 = Series(['Japan', 'United Kingdom', 'Pakistan'], index=[9, 0, 10])\n",
    "ser3"
   ]
  },
  {
   "cell_type": "code",
   "execution_count": 24,
   "id": "649cbc24-6e04-4e54-bbd1-b5e5d30a99f7",
   "metadata": {},
   "outputs": [],
   "source": [
    "ranger = range(15)"
   ]
  },
  {
   "cell_type": "code",
   "execution_count": 25,
   "id": "e5d0b990-f00d-47fc-b348-5d1ef9a584f0",
   "metadata": {},
   "outputs": [
    {
     "data": {
      "text/plain": [
       "range(0, 15)"
      ]
     },
     "execution_count": 25,
     "metadata": {},
     "output_type": "execute_result"
    }
   ],
   "source": [
    "ranger"
   ]
  },
  {
   "cell_type": "code",
   "execution_count": 27,
   "id": "08f2d9b6-e539-47d6-b8e0-b68c557634b9",
   "metadata": {},
   "outputs": [
    {
     "data": {
      "text/plain": [
       "0     United Kingdom\n",
       "1     United Kingdom\n",
       "2     United Kingdom\n",
       "3     United Kingdom\n",
       "4     United Kingdom\n",
       "5     United Kingdom\n",
       "6     United Kingdom\n",
       "7     United Kingdom\n",
       "8     United Kingdom\n",
       "9              Japan\n",
       "10          Pakistan\n",
       "11          Pakistan\n",
       "12          Pakistan\n",
       "13          Pakistan\n",
       "14          Pakistan\n",
       "dtype: object"
      ]
     },
     "execution_count": 27,
     "metadata": {},
     "output_type": "execute_result"
    }
   ],
   "source": [
    "ser3.reindex(ranger).ffill() #I have no idea why this works and not -> ser3.reindex(ranger, method='ffill'), but hey wolcome to programming. "
   ]
  },
  {
   "cell_type": "code",
   "execution_count": 29,
   "id": "aaff530c-8c0b-4cae-a3c9-c32fedc50909",
   "metadata": {},
   "outputs": [
    {
     "data": {
      "text/html": [
       "<div>\n",
       "<style scoped>\n",
       "    .dataframe tbody tr th:only-of-type {\n",
       "        vertical-align: middle;\n",
       "    }\n",
       "\n",
       "    .dataframe tbody tr th {\n",
       "        vertical-align: top;\n",
       "    }\n",
       "\n",
       "    .dataframe thead th {\n",
       "        text-align: right;\n",
       "    }\n",
       "</style>\n",
       "<table border=\"1\" class=\"dataframe\">\n",
       "  <thead>\n",
       "    <tr style=\"text-align: right;\">\n",
       "      <th></th>\n",
       "      <th>col1</th>\n",
       "      <th>col2</th>\n",
       "      <th>col3</th>\n",
       "      <th>col4</th>\n",
       "      <th>col5</th>\n",
       "    </tr>\n",
       "  </thead>\n",
       "  <tbody>\n",
       "    <tr>\n",
       "      <th>A</th>\n",
       "      <td>1.139068</td>\n",
       "      <td>1.387684</td>\n",
       "      <td>0.518214</td>\n",
       "      <td>1.205518</td>\n",
       "      <td>-1.027665</td>\n",
       "    </tr>\n",
       "    <tr>\n",
       "      <th>B</th>\n",
       "      <td>-1.259410</td>\n",
       "      <td>-0.692203</td>\n",
       "      <td>-1.266266</td>\n",
       "      <td>-1.035497</td>\n",
       "      <td>0.348341</td>\n",
       "    </tr>\n",
       "    <tr>\n",
       "      <th>C</th>\n",
       "      <td>0.551281</td>\n",
       "      <td>-1.411320</td>\n",
       "      <td>0.772396</td>\n",
       "      <td>0.483183</td>\n",
       "      <td>0.119849</td>\n",
       "    </tr>\n",
       "    <tr>\n",
       "      <th>D</th>\n",
       "      <td>2.207774</td>\n",
       "      <td>0.549455</td>\n",
       "      <td>1.562661</td>\n",
       "      <td>1.634559</td>\n",
       "      <td>-0.129876</td>\n",
       "    </tr>\n",
       "    <tr>\n",
       "      <th>E</th>\n",
       "      <td>0.858747</td>\n",
       "      <td>1.410458</td>\n",
       "      <td>-0.808736</td>\n",
       "      <td>1.591357</td>\n",
       "      <td>0.000871</td>\n",
       "    </tr>\n",
       "  </tbody>\n",
       "</table>\n",
       "</div>"
      ],
      "text/plain": [
       "       col1      col2      col3      col4      col5\n",
       "A  1.139068  1.387684  0.518214  1.205518 -1.027665\n",
       "B -1.259410 -0.692203 -1.266266 -1.035497  0.348341\n",
       "C  0.551281 -1.411320  0.772396  0.483183  0.119849\n",
       "D  2.207774  0.549455  1.562661  1.634559 -0.129876\n",
       "E  0.858747  1.410458 -0.808736  1.591357  0.000871"
      ]
     },
     "execution_count": 29,
     "metadata": {},
     "output_type": "execute_result"
    }
   ],
   "source": [
    "dframe = DataFrame(randn(25).reshape((5,5)),index=['A','B','C','D','E'],columns=['col1','col2','col3','col4','col5'])\n",
    "\n",
    "dframe"
   ]
  },
  {
   "cell_type": "code",
   "execution_count": null,
   "id": "6313248d-92af-4cdb-859e-d9ab0995f0b3",
   "metadata": {},
   "outputs": [],
   "source": []
  }
 ],
 "metadata": {
  "kernelspec": {
   "display_name": "Python 3 (ipykernel)",
   "language": "python",
   "name": "python3"
  },
  "language_info": {
   "codemirror_mode": {
    "name": "ipython",
    "version": 3
   },
   "file_extension": ".py",
   "mimetype": "text/x-python",
   "name": "python",
   "nbconvert_exporter": "python",
   "pygments_lexer": "ipython3",
   "version": "3.9.17"
  }
 },
 "nbformat": 4,
 "nbformat_minor": 5
}
