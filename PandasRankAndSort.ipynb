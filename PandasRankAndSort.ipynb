{
 "cells": [
  {
   "cell_type": "code",
   "execution_count": 6,
   "id": "ee1f23a9-bb82-4776-aeab-06707d3dadbd",
   "metadata": {},
   "outputs": [],
   "source": [
    "import pandas as pd\n",
    "import numpy as np\n",
    "\n",
    "from pandas import DataFrame, Series\n",
    "from numpy.random import randn"
   ]
  },
  {
   "cell_type": "code",
   "execution_count": 2,
   "id": "bb3a522f-57d1-4ca7-ac71-e692edc7a87b",
   "metadata": {},
   "outputs": [
    {
     "data": {
      "text/plain": [
       "C    0\n",
       "A    1\n",
       "B    2\n",
       "dtype: int64"
      ]
     },
     "execution_count": 2,
     "metadata": {},
     "output_type": "execute_result"
    }
   ],
   "source": [
    "ser1 = Series(range(3),index=['C','A','B'])\n",
    "ser1"
   ]
  },
  {
   "cell_type": "code",
   "execution_count": 3,
   "id": "a24ae447-8b99-4d67-9304-bc8b0a1e34ed",
   "metadata": {},
   "outputs": [
    {
     "data": {
      "text/plain": [
       "A    1\n",
       "B    2\n",
       "C    0\n",
       "dtype: int64"
      ]
     },
     "execution_count": 3,
     "metadata": {},
     "output_type": "execute_result"
    }
   ],
   "source": [
    "ser1.sort_index()"
   ]
  },
  {
   "cell_type": "code",
   "execution_count": 5,
   "id": "70224c16-2cea-42ec-9b65-6a36af6d83f9",
   "metadata": {},
   "outputs": [
    {
     "data": {
      "text/plain": [
       "C    0\n",
       "A    1\n",
       "B    2\n",
       "dtype: int64"
      ]
     },
     "execution_count": 5,
     "metadata": {},
     "output_type": "execute_result"
    }
   ],
   "source": [
    "ser1.sort_values()"
   ]
  },
  {
   "cell_type": "code",
   "execution_count": 7,
   "id": "5e3ef287-bb68-4dc9-a8be-14044266dcf9",
   "metadata": {},
   "outputs": [
    {
     "data": {
      "text/plain": [
       "0   -1.050845\n",
       "1   -0.481191\n",
       "2   -0.390298\n",
       "3    0.895241\n",
       "4    0.586399\n",
       "5    1.075238\n",
       "6   -0.101379\n",
       "7   -1.090713\n",
       "8    0.830560\n",
       "9   -1.401785\n",
       "dtype: float64"
      ]
     },
     "execution_count": 7,
     "metadata": {},
     "output_type": "execute_result"
    }
   ],
   "source": [
    "ser2 = Series(randn(10))\n",
    "ser2"
   ]
  },
  {
   "cell_type": "code",
   "execution_count": 9,
   "id": "31162489-4383-45d1-8775-7141483da27e",
   "metadata": {},
   "outputs": [
    {
     "data": {
      "text/plain": [
       "9   -1.401785\n",
       "7   -1.090713\n",
       "0   -1.050845\n",
       "1   -0.481191\n",
       "2   -0.390298\n",
       "6   -0.101379\n",
       "4    0.586399\n",
       "8    0.830560\n",
       "3    0.895241\n",
       "5    1.075238\n",
       "dtype: float64"
      ]
     },
     "execution_count": 9,
     "metadata": {},
     "output_type": "execute_result"
    }
   ],
   "source": [
    "ser2.sort_values()"
   ]
  },
  {
   "cell_type": "code",
   "execution_count": 10,
   "id": "082b32bd-e540-47cf-8b5e-4a8c872032a8",
   "metadata": {},
   "outputs": [
    {
     "data": {
      "text/plain": [
       "0     3.0\n",
       "1     4.0\n",
       "2     5.0\n",
       "3     9.0\n",
       "4     7.0\n",
       "5    10.0\n",
       "6     6.0\n",
       "7     2.0\n",
       "8     8.0\n",
       "9     1.0\n",
       "dtype: float64"
      ]
     },
     "execution_count": 10,
     "metadata": {},
     "output_type": "execute_result"
    }
   ],
   "source": [
    "ser2.rank()"
   ]
  },
  {
   "cell_type": "code",
   "execution_count": 11,
   "id": "3a47b4ed-5b86-460e-a017-7e39ef58a9c6",
   "metadata": {},
   "outputs": [
    {
     "data": {
      "text/plain": [
       "0     0.321688\n",
       "1    -1.142328\n",
       "2    -0.212336\n",
       "3     0.262470\n",
       "4     1.421332\n",
       "5    -0.386638\n",
       "6    -0.795735\n",
       "7    -1.017146\n",
       "8    -1.726919\n",
       "9     1.929487\n",
       "10   -1.893284\n",
       "11    1.266339\n",
       "12    0.172914\n",
       "13   -0.508572\n",
       "14    0.366876\n",
       "15   -0.254223\n",
       "16    0.976635\n",
       "17    0.351880\n",
       "18    0.180711\n",
       "19    0.433220\n",
       "dtype: float64"
      ]
     },
     "execution_count": 11,
     "metadata": {},
     "output_type": "execute_result"
    }
   ],
   "source": [
    "ser3 = Series(randn(20))\n",
    "ser3"
   ]
  },
  {
   "cell_type": "code",
   "execution_count": 12,
   "id": "412f1548-d541-41ae-95bc-4b690e5c1018",
   "metadata": {},
   "outputs": [
    {
     "data": {
      "text/plain": [
       "0     13.0\n",
       "1      3.0\n",
       "2      9.0\n",
       "3     12.0\n",
       "4     19.0\n",
       "5      7.0\n",
       "6      5.0\n",
       "7      4.0\n",
       "8      2.0\n",
       "9     20.0\n",
       "10     1.0\n",
       "11    18.0\n",
       "12    10.0\n",
       "13     6.0\n",
       "14    15.0\n",
       "15     8.0\n",
       "16    17.0\n",
       "17    14.0\n",
       "18    11.0\n",
       "19    16.0\n",
       "dtype: float64"
      ]
     },
     "execution_count": 12,
     "metadata": {},
     "output_type": "execute_result"
    }
   ],
   "source": [
    "ser3.rank()"
   ]
  },
  {
   "cell_type": "code",
   "execution_count": null,
   "id": "a6af9662-bda0-4316-be4d-3ba5f995b157",
   "metadata": {},
   "outputs": [],
   "source": []
  }
 ],
 "metadata": {
  "kernelspec": {
   "display_name": "Python 3 (ipykernel)",
   "language": "python",
   "name": "python3"
  },
  "language_info": {
   "codemirror_mode": {
    "name": "ipython",
    "version": 3
   },
   "file_extension": ".py",
   "mimetype": "text/x-python",
   "name": "python",
   "nbconvert_exporter": "python",
   "pygments_lexer": "ipython3",
   "version": "3.9.17"
  }
 },
 "nbformat": 4,
 "nbformat_minor": 5
}
